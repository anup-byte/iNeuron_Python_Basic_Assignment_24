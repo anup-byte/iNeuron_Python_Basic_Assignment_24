{
 "cells": [
  {
   "cell_type": "markdown",
   "metadata": {},
   "source": [
    "Q1. What is the relationship between def statements and lambda expressions ?"
   ]
  },
  {
   "cell_type": "markdown",
   "metadata": {},
   "source": [
    "While normal functions are defined using the def keyword, we define anonymous functions using the lambda\n",
    "keyword."
   ]
  },
  {
   "cell_type": "markdown",
   "metadata": {},
   "source": [
    "Q2. What is the benefit of lambda?"
   ]
  },
  {
   "cell_type": "markdown",
   "metadata": {},
   "source": [
    "In python, def defined functions are commonly used because of their simplicity. The def defined functions do not\n",
    "return anything if not explicitly returned whereas the lambda function does return an object. The def functions\n",
    "must be declared in the namespace. The def functions can perform any python task including multiple conditions,\n",
    "nested conditions or loops of any level, printing, importing libraries, raising Exceptions, etc. \n",
    "\n",
    "Example:"
   ]
  },
  {
   "cell_type": "code",
   "execution_count": 1,
   "metadata": {},
   "outputs": [
    {
     "name": "stdout",
     "output_type": "stream",
     "text": [
      "3.0\n",
      "True\n"
     ]
    }
   ],
   "source": [
    "# Define function to calculate cube root\n",
    "# using def keyword\n",
    "  \n",
    "def calculate_cube_root(x):\n",
    "    return x**(1/3)\n",
    "  \n",
    "# Call the def function to calculate cube\n",
    "# root and print it\n",
    "print(calculate_cube_root(27))\n",
    "  \n",
    "# Define function to check if language is present in\n",
    "# language list using def keyword\n",
    "languages = ['Sanskrut', 'English', 'French', 'German']\n",
    "  \n",
    "def check_language(x):\n",
    "    if x in languages:\n",
    "        return True\n",
    "    return False\n",
    "  \n",
    "# Call the def function to check if keyword 'English'\n",
    "# is present in the languages list and print it\n",
    "print(check_language('English'))"
   ]
  },
  {
   "cell_type": "markdown",
   "metadata": {},
   "source": [
    "The lambda functions can be used without any declaration in the namespace. The lambda functions defined \n",
    "are like single-line functions. These functions do not have parenthesis like the def defined functions but \n",
    "instead, take parameters after the lambda keyword as shown. There is no return keyword defined explicitly \n",
    "because the lambda function does return an object by default."
   ]
  },
  {
   "cell_type": "code",
   "execution_count": 2,
   "metadata": {},
   "outputs": [
    {
     "name": "stdout",
     "output_type": "stream",
     "text": [
      "3.0\n",
      "True\n"
     ]
    }
   ],
   "source": [
    "# Define function using lambda for cube root\n",
    "cube_root= lambda x: x**(1/3)\n",
    "  \n",
    "# Call the lambda function\n",
    "print(cube_root(27))\n",
    "  \n",
    "languages = ['Sanskrut', 'English', 'French', 'German']\n",
    "  \n",
    "# Define function using lambda\n",
    "l_check_language = lambda x: True if x in languages else False\n",
    "  \n",
    "# Call the lambda function\n",
    "print(l_check_language('Sanskrut'))"
   ]
  },
  {
   "cell_type": "markdown",
   "metadata": {},
   "source": [
    "Lambda functions are usually used in conjunction with the functions like map(), filter(), and reduce()."
   ]
  },
  {
   "cell_type": "markdown",
   "metadata": {},
   "source": [
    "Lambda function is a useful function for traders who code with the help of Python. Once known by the programmer,\n",
    "it is the preferred function since it helps manage time, is quick while coding and has advanced operations."
   ]
  },
  {
   "cell_type": "markdown",
   "metadata": {},
   "source": [
    "Q3. Compare and contrast map, filter, and reduce."
   ]
  },
  {
   "cell_type": "markdown",
   "metadata": {},
   "source": [
    "The map function is used to pass a function to each item in an iterable object. The map function returns a list\n",
    "containing all the results without modifying the original object."
   ]
  },
  {
   "cell_type": "code",
   "execution_count": 3,
   "metadata": {},
   "outputs": [
    {
     "name": "stdout",
     "output_type": "stream",
     "text": [
      "Lambda returned the answer: 2.0\n",
      "Lambda returned the answer: 10.0\n",
      "Lambda returned the answer: 7.5\n",
      "Lambda returned the answer: 5.714285714285714\n"
     ]
    }
   ],
   "source": [
    "score = [\n",
    "(10, 5),\n",
    "(20, 2),\n",
    "(30, 4),\n",
    "(40, 7)\n",
    "]\n",
    "result = map(lambda x: x[0] / x[1], score)\n",
    "for item in result:\n",
    "    print(f\"Lambda returned the answer: {item}\")"
   ]
  },
  {
   "cell_type": "markdown",
   "metadata": {},
   "source": [
    "In the code above, we defined a list of tuples named score. The map function was, then, called with the lambda\n",
    "function as the first argument and the list as the second argument.\n",
    "\n",
    "Lambda function was written in the code to expect a tuple as an argument. It returns the value stored in element\n",
    "0 of the tuple divided by the value stored in element 1.\n",
    "\n",
    "After map runs, we’ll store the results in the variable result. Then, iterate through the list of results and \n",
    "print them. The results of division are expected to be 10 in every case."
   ]
  },
  {
   "cell_type": "markdown",
   "metadata": {},
   "source": [
    "The filter function is used to extract each element in the iterable object for which the function returns True.\n",
    "In this case, we will define the function using the lambda construct and apply the filter function.\n",
    "\n",
    "Let’s look at how we can use filter to find even-numbered list items. To do so, we’ll need to write a lambda \n",
    "function that’s true only when the number we pass to it satisfies our conditions."
   ]
  },
  {
   "cell_type": "code",
   "execution_count": 4,
   "metadata": {},
   "outputs": [
    {
     "name": "stdout",
     "output_type": "stream",
     "text": [
      "Lambda returned the answer: [2, 4, 6, 8, 10]\n"
     ]
    }
   ],
   "source": [
    "data = [1, 2, 3, 4, 5, 6, 7, 8, 9, 10]\n",
    "result = filter(lambda x: x % 2 == 0, data)\n",
    "print(f\"Lambda returned the answer: {list(result)}\")"
   ]
  },
  {
   "cell_type": "markdown",
   "metadata": {},
   "source": [
    "The reduce function is a unique function which reduces the input list to a single value by calling the function\n",
    "provided as part of the argument.  The reduce function by default starts from the first value of the list and\n",
    "passes the current output along to the next item from the list."
   ]
  },
  {
   "cell_type": "code",
   "execution_count": 5,
   "metadata": {},
   "outputs": [
    {
     "name": "stdout",
     "output_type": "stream",
     "text": [
      "Lambda returned the answer: 140\n"
     ]
    }
   ],
   "source": [
    "from functools import reduce\n",
    "score = [20, 30, 40, 50]\n",
    "result = reduce(lambda x, y: x + y, score)\n",
    "print(f\"Lambda returned the answer: {result}\")"
   ]
  },
  {
   "cell_type": "markdown",
   "metadata": {},
   "source": [
    "In the above example, we added the list items together in the lambda expression. Reduce starts with an empty accumulator and adds the first item. It then sets the accumulator to the result of the first operation and repeats.\n",
    "\n",
    "These were some of the ways in which we can use the lambda construct."
   ]
  },
  {
   "cell_type": "markdown",
   "metadata": {},
   "source": [
    "Q4. What are function annotations, and how are they used?"
   ]
  },
  {
   "cell_type": "markdown",
   "metadata": {},
   "source": [
    "Function annotations are specified in PEP-3107. The main motivation was to provide a standard way to associate \n",
    "metadata to function arguments and return value. \n",
    "\n",
    "Python doesn’t bless the annotations with any semantics. It purely provides a nice syntactic support for associating metadata as well as an easy way to access it. Also, annotations aretotally optional."
   ]
  },
  {
   "cell_type": "markdown",
   "metadata": {},
   "source": [
    "Let’s take a look at an example. Here is a function foo() that takes three arguments called a, b and c and\n",
    "prints their sum. Note that foo() returns nothing. The first argument a is not annotated. The second argument b\n",
    "is annotated with the string ‘annotating b’, and the third argument c is annotated with type int. The return\n",
    "value is annotated with the type float. Note the “->” syntax for annotating the return value."
   ]
  },
  {
   "cell_type": "code",
   "execution_count": 6,
   "metadata": {},
   "outputs": [],
   "source": [
    "def foo(a, b: 'annotating b', c: int) -> float:\n",
    "    print(a + b + c)"
   ]
  },
  {
   "cell_type": "markdown",
   "metadata": {},
   "source": [
    "The annotations have no impact whatsoever on the execution of the function. Let’s call foo() twice: once with\n",
    "int arguments and once with string arguments. In both cases, foo() does the right thing, and the annotations\n",
    "are simply ignored."
   ]
  },
  {
   "cell_type": "code",
   "execution_count": 7,
   "metadata": {},
   "outputs": [
    {
     "name": "stdout",
     "output_type": "stream",
     "text": [
      "Hello, World!\n"
     ]
    }
   ],
   "source": [
    "foo('Hello', ', ', 'World!')"
   ]
  },
  {
   "cell_type": "code",
   "execution_count": 8,
   "metadata": {},
   "outputs": [
    {
     "name": "stdout",
     "output_type": "stream",
     "text": [
      "6\n"
     ]
    }
   ],
   "source": [
    "foo(1, 2, 3)"
   ]
  },
  {
   "cell_type": "markdown",
   "metadata": {},
   "source": [
    "Default arguments are specified after the annotation:"
   ]
  },
  {
   "cell_type": "code",
   "execution_count": 9,
   "metadata": {},
   "outputs": [],
   "source": [
    "def foo(x: 'an argument that defaults to 5' = 5):\n",
    "    print(x)"
   ]
  },
  {
   "cell_type": "code",
   "execution_count": 10,
   "metadata": {},
   "outputs": [
    {
     "name": "stdout",
     "output_type": "stream",
     "text": [
      "7\n"
     ]
    }
   ],
   "source": [
    "foo(7)"
   ]
  },
  {
   "cell_type": "code",
   "execution_count": 11,
   "metadata": {},
   "outputs": [
    {
     "name": "stdout",
     "output_type": "stream",
     "text": [
      "5\n"
     ]
    }
   ],
   "source": [
    "foo()"
   ]
  },
  {
   "cell_type": "markdown",
   "metadata": {},
   "source": [
    "The function object has an attribute called ‘annotations’. It is a mapping that maps each argument name to its \n",
    "annotation. The return value annotation is mapped to the key ‘return’, which can’t conflict with any argument \n",
    "name because ‘return’ is a reserved word that can’t serve as an argument name.It is possible to pass \n",
    "a keyword argument named return to a function:"
   ]
  },
  {
   "cell_type": "code",
   "execution_count": 12,
   "metadata": {},
   "outputs": [
    {
     "name": "stdout",
     "output_type": "stream",
     "text": [
      "4\n"
     ]
    }
   ],
   "source": [
    "def bar(*args, **kwargs: 'the keyword arguments dict'):\n",
    "    print(kwargs['return'])\n",
    "\n",
    "d = {'return': 4}\n",
    "\n",
    "bar(**d)"
   ]
  },
  {
   "cell_type": "markdown",
   "metadata": {},
   "source": [
    "Let’s go back to our first example and check its annotations:"
   ]
  },
  {
   "cell_type": "code",
   "execution_count": 13,
   "metadata": {},
   "outputs": [
    {
     "name": "stdout",
     "output_type": "stream",
     "text": [
      "{'b': 'annotating b', 'c': <class 'int'>, 'return': <class 'float'>}\n"
     ]
    }
   ],
   "source": [
    "def foo(a, b: 'annotating b', c: int) -> float:\n",
    "    print(a + b + c)\n",
    "    \n",
    "print(foo.__annotations__)"
   ]
  },
  {
   "cell_type": "markdown",
   "metadata": {},
   "source": [
    "This is pretty straightforward. If we annotate a function with an arguments array and/or keyword arguments\n",
    "array, then obviously you can’t annotate individual arguments."
   ]
  },
  {
   "cell_type": "code",
   "execution_count": 14,
   "metadata": {},
   "outputs": [
    {
     "name": "stdout",
     "output_type": "stream",
     "text": [
      "{'args': 'list of unnamed arguments', 'kwargs': 'dict of named arguments'}\n"
     ]
    }
   ],
   "source": [
    "def foo(*args: 'list of unnamed arguments', **kwargs: 'dict of named arguments'):\n",
    "    print(args, kwargs)\n",
    "print(foo.__annotations__)"
   ]
  },
  {
   "cell_type": "markdown",
   "metadata": {},
   "source": [
    "Annotations have no standard meaning or semantics. There are several categories of generic uses. We can use \n",
    "them as better documentation and move argument and return value documentation out of the docstring. \n",
    "For example, this function:"
   ]
  },
  {
   "cell_type": "code",
   "execution_count": 15,
   "metadata": {},
   "outputs": [],
   "source": [
    "def div(a, b):\n",
    "    \"\"\"Divide a by b \n",
    "args:\n",
    "a - the dividend\n",
    "b - the divisor (must be different than 0)\n",
    "return:\n",
    "the result of dividing a by b\n",
    "\"\"\"\n",
    "    return a / b"
   ]
  },
  {
   "cell_type": "markdown",
   "metadata": {},
   "source": [
    "Can be converted to:"
   ]
  },
  {
   "cell_type": "code",
   "execution_count": 16,
   "metadata": {},
   "outputs": [],
   "source": [
    "def div(a: 'the dividend',\n",
    "        b: 'the divisor (must be different than 0)') -> 'the result of dividing a by b':\n",
    "    \"\"\"Divide a by b\"\"\"\n",
    "    return a / b"
   ]
  },
  {
   "cell_type": "markdown",
   "metadata": {},
   "source": [
    "While the same information is captured, there are several benefits to the annotations version:\n",
    "    \n",
    "If we rename an argument, the documentation docstring version may be out of date.\n",
    "It is easier to see if an argument is not documented.\n",
    "There is no need to come up with a special format of argument documentation inside the docstring to be parsed by\n",
    "tools. The annotations attribute provides a direct, standard mechanism of access.    "
   ]
  },
  {
   "cell_type": "markdown",
   "metadata": {},
   "source": [
    "Python is dynamically typed, which means you can pass any object as an argument of a function. But often \n",
    "functions will require arguments to be of a specific type. With annotations we can specify the type right next\n",
    "to the argument in a very natural way.\n",
    "\n",
    "Just specifying the type will not enforce it, and additional work (a lot of work) will be needed.\n",
    "Still, even just specifying the type can make the intent more readable than specifying the type in the \n",
    "docstring, and it can help users understand how to call the function.\n",
    "\n",
    "Yet another benefit of annotations over docstring is that we can attach different types of metadata as tuples\n",
    "or dicts. Again, we can do that with docstring too, but it will be text-based and will require special parsing.\n",
    "\n",
    "Finally, we can attach a lot of metadata that will be used by special external tools or at runtime via \n",
    "decorators. I’ll explore this option in the next section."
   ]
  },
  {
   "cell_type": "markdown",
   "metadata": {},
   "source": [
    "Multiple Annotations\n",
    "Suppose we want to annotate an argument with both its type and a help string. This is very easy with \n",
    "annotations. We can simply annotate the argument with a dict that has two keys: ‘type’ and ‘help’."
   ]
  },
  {
   "cell_type": "code",
   "execution_count": 17,
   "metadata": {},
   "outputs": [
    {
     "name": "stdout",
     "output_type": "stream",
     "text": [
      "{'a': {'type': <class 'float'>, 'help': 'the dividend'}, 'b': {'type': <class 'float'>, 'help': 'the divisor (must be different than 0)'}, 'return': {'type': <class 'float'>, 'help': 'the result of dividing a by b'}}\n"
     ]
    }
   ],
   "source": [
    "def div(a: dict(type=float, help='the dividend'),\n",
    "        b: dict(type=float, help='the divisor (must be different than 0)')\n",
    "    ) -> dict(type=float, help='the result of dividing a by b'):\n",
    "    \"\"\"Divide a by b\"\"\"\n",
    "    return a / b\n",
    "    \n",
    "print(div.__annotations__)"
   ]
  },
  {
   "cell_type": "markdown",
   "metadata": {},
   "source": [
    "Q5. What are recursive functions in python, and how are they used?"
   ]
  },
  {
   "cell_type": "markdown",
   "metadata": {},
   "source": [
    "The term Recursion can be defined as the process of defining something in terms of itself. In simple words, \n",
    "it is a process in which a function calls itself directly or indirectly. "
   ]
  },
  {
   "cell_type": "code",
   "execution_count": 18,
   "metadata": {},
   "outputs": [
    {
     "name": "stdout",
     "output_type": "stream",
     "text": [
      "Enter n-value6\n",
      "720\n"
     ]
    }
   ],
   "source": [
    "def factorial(n):\n",
    "    if (n==0 or n==1):\n",
    "        return 1\n",
    "    else:\n",
    "        return n * factorial(n-1)\n",
    "    \n",
    "n = int(input(\"Enter n-value\"))\n",
    "\n",
    "res = factorial(n)\n",
    "print(res)"
   ]
  },
  {
   "cell_type": "markdown",
   "metadata": {},
   "source": [
    "Q6. What are some general design guidelines for coding functions?"
   ]
  },
  {
   "cell_type": "markdown",
   "metadata": {},
   "source": [
    "Python Functions is a block of statements that return the specific task.\n",
    "\n",
    "The idea is to put some commonly or repeatedly done tasks together and make a function so that instead of \n",
    "writing the same code again and again for different inputs, we can do the function calls to reuse code contained\n",
    "in it over and over again. "
   ]
  },
  {
   "cell_type": "markdown",
   "metadata": {},
   "source": [
    "def function_name(parameters):\n",
    "    \n",
    "    #Body of statement\n",
    "    \n",
    "    return expression"
   ]
  },
  {
   "cell_type": "code",
   "execution_count": 19,
   "metadata": {},
   "outputs": [],
   "source": [
    "# A simple Python function\n",
    " \n",
    "def fun():\n",
    "    print(\"Welcome to PYTHON\")"
   ]
  },
  {
   "cell_type": "markdown",
   "metadata": {},
   "source": [
    "After creating a function we can call it by using the name of the function followed by parenthesis containing \n",
    "parameters of that particular function."
   ]
  },
  {
   "cell_type": "code",
   "execution_count": 20,
   "metadata": {},
   "outputs": [
    {
     "name": "stdout",
     "output_type": "stream",
     "text": [
      "Welcome to PYTHON\n"
     ]
    }
   ],
   "source": [
    "# A simple Python function\n",
    "def fun():\n",
    "    print(\"Welcome to PYTHON\")\n",
    " \n",
    " \n",
    "# Driver code to call a function\n",
    "fun()"
   ]
  },
  {
   "cell_type": "markdown",
   "metadata": {},
   "source": [
    "Syntax: Python Function with parameters "
   ]
  },
  {
   "cell_type": "markdown",
   "metadata": {},
   "source": [
    "def function_name(parameter: data_type) -> return_type:\n",
    "    \"\"\"Doctring\"\"\"\n",
    "    # body of the function\n",
    "    return expression"
   ]
  },
  {
   "cell_type": "code",
   "execution_count": 21,
   "metadata": {},
   "outputs": [
    {
     "name": "stdout",
     "output_type": "stream",
     "text": [
      "The addition of 5 and 15 results 20.\n"
     ]
    }
   ],
   "source": [
    "def add(num1: int, num2: int) -> int:\n",
    "    \"\"\"Add two numbers\"\"\"\n",
    "    num3 = num1 + num2\n",
    " \n",
    "    return num3\n",
    " \n",
    "# Driver code\n",
    "num1, num2 = 5, 15\n",
    "ans = add(num1, num2)\n",
    "print(f\"The addition of {num1} and {num2} results {ans}.\")"
   ]
  },
  {
   "cell_type": "code",
   "execution_count": 22,
   "metadata": {},
   "outputs": [
    {
     "name": "stdout",
     "output_type": "stream",
     "text": [
      "False True\n"
     ]
    }
   ],
   "source": [
    "# some more functions\n",
    "def is_prime(n):\n",
    "    if n in [2, 3]:\n",
    "        return True\n",
    "    if (n == 1) or (n % 2 == 0):\n",
    "        return False\n",
    "    r = 3\n",
    "    while r * r <= n:\n",
    "        if n % r == 0:\n",
    "            return False\n",
    "        r += 2\n",
    "    return True\n",
    "print(is_prime(78), is_prime(79))"
   ]
  },
  {
   "cell_type": "code",
   "execution_count": null,
   "metadata": {},
   "outputs": [],
   "source": [
    "Arguments are the values passed inside the parenthesis of the function. A function can have any number of \n",
    "arguments separated by a comma.\n",
    "\n",
    "In this example, we will create a simple function to check whether the number passed as an argument to the\n",
    "function is even or odd."
   ]
  },
  {
   "cell_type": "code",
   "execution_count": 23,
   "metadata": {},
   "outputs": [
    {
     "name": "stdout",
     "output_type": "stream",
     "text": [
      "even\n",
      "odd\n"
     ]
    }
   ],
   "source": [
    "# A simple Python function to check\n",
    "# whether x is even or odd\n",
    " \n",
    "def evenOdd(x):\n",
    "    if (x % 2 == 0):\n",
    "        print(\"even\")\n",
    "    else:\n",
    "        print(\"odd\")\n",
    " \n",
    " \n",
    "# Driver code to call the function\n",
    "evenOdd(2)\n",
    "evenOdd(3)"
   ]
  },
  {
   "cell_type": "markdown",
   "metadata": {},
   "source": [
    "Python supports various types of arguments that can be passed at the time of the function call. Let’s discuss\n",
    "each type in detail."
   ]
  },
  {
   "cell_type": "markdown",
   "metadata": {},
   "source": [
    "A default argument is a parameter that assumes a default value if a value is not provided in the function call\n",
    "for that argument. The following example illustrates Default arguments. "
   ]
  },
  {
   "cell_type": "code",
   "execution_count": 24,
   "metadata": {},
   "outputs": [
    {
     "name": "stdout",
     "output_type": "stream",
     "text": [
      "x:  10\n",
      "y:  50\n"
     ]
    }
   ],
   "source": [
    "# Python program to demonstrate\n",
    "# default arguments\n",
    " \n",
    "def myFun(x, y=50):\n",
    "    print(\"x: \", x)\n",
    "    print(\"y: \", y)\n",
    " \n",
    " \n",
    "# Driver code (We call myFun() with only\n",
    "# argument)\n",
    "myFun(10)"
   ]
  },
  {
   "cell_type": "markdown",
   "metadata": {},
   "source": [
    "The idea is to allow the caller to specify the argument name with values so that caller does not need to \n",
    "remember the order of parameters."
   ]
  },
  {
   "cell_type": "code",
   "execution_count": 25,
   "metadata": {},
   "outputs": [
    {
     "name": "stdout",
     "output_type": "stream",
     "text": [
      "Geeks Practice\n",
      "Geeks Practice\n"
     ]
    }
   ],
   "source": [
    "# Python program to demonstrate Keyword Arguments\n",
    "def student(firstname, lastname):\n",
    "    print(firstname, lastname)\n",
    " \n",
    " \n",
    "# Keyword arguments\n",
    "student(firstname='Geeks', lastname='Practice')\n",
    "student(lastname='Practice', firstname='Geeks')"
   ]
  },
  {
   "cell_type": "markdown",
   "metadata": {},
   "source": [
    "In Python, we can pass a variable number of arguments to a function using special symbols. There are two special\n",
    "symbols:\n",
    "\n",
    "*args (Non-Keyword Arguments)\n",
    "**kwargs (Keyword Arguments)\n"
   ]
  },
  {
   "cell_type": "code",
   "execution_count": 26,
   "metadata": {},
   "outputs": [
    {
     "name": "stdout",
     "output_type": "stream",
     "text": [
      "Hello\n",
      "Welcome\n",
      "to\n",
      "GeeksforGeeks\n"
     ]
    }
   ],
   "source": [
    "# Python program to illustrate\n",
    "# *args for variable number of arguments\n",
    " \n",
    "def myFun(*argv):\n",
    "    for arg in argv:\n",
    "        print(arg)\n",
    " \n",
    " \n",
    "myFun('Hello', 'Welcome', 'to', 'GeeksforGeeks')"
   ]
  },
  {
   "cell_type": "markdown",
   "metadata": {},
   "source": [
    " Variable length keyword arguments"
   ]
  },
  {
   "cell_type": "code",
   "execution_count": 27,
   "metadata": {},
   "outputs": [
    {
     "name": "stdout",
     "output_type": "stream",
     "text": [
      "first == Geeks\n",
      "mid == for\n",
      "last == Geeks\n"
     ]
    }
   ],
   "source": [
    "# Python program to illustrate\n",
    "# *kwargs for variable number of keyword arguments\n",
    " \n",
    "def myFun(**kwargs):\n",
    "    for key, value in kwargs.items():\n",
    "        print(\"%s == %s\" % (key, value))\n",
    " \n",
    " \n",
    "# Driver code\n",
    "myFun(first='Geeks', mid='for', last='Geeks')"
   ]
  },
  {
   "cell_type": "markdown",
   "metadata": {},
   "source": [
    "The first string after the function is called the Document string or Docstring in short. This is used to\n",
    "describe the functionality of the function. The use of docstring in functions is optional but it is considered \n",
    "a good practice.\n",
    "\n",
    "The below syntax can be used to print out the docstring of a function:\n",
    "\n",
    "Syntax: print(function_name.__doc__)"
   ]
  },
  {
   "cell_type": "code",
   "execution_count": 28,
   "metadata": {},
   "outputs": [
    {
     "name": "stdout",
     "output_type": "stream",
     "text": [
      "Function to check if the number is even or odd\n"
     ]
    }
   ],
   "source": [
    "# A simple Python function to check\n",
    "# whether x is even or odd\n",
    " \n",
    "def evenOdd(x):\n",
    "    \"\"\"Function to check if the number is even or odd\"\"\"\n",
    "     \n",
    "    if (x % 2 == 0):\n",
    "        print(\"even\")\n",
    "    else:\n",
    "        print(\"odd\")\n",
    " \n",
    " \n",
    "# Driver code to call the function\n",
    "print(evenOdd.__doc__)"
   ]
  },
  {
   "cell_type": "markdown",
   "metadata": {},
   "source": [
    "The function return statement is used to exit from a function and go back to the function caller and return the\n",
    "specified value or data item to the caller. \n",
    "\n",
    "Syntax: \n",
    "\n",
    "return [expression_list]\n",
    "The return statement can consist of a variable, an expression, or a constant which is returned to the end of the\n",
    "function execution. If none of the above is present with the return statement a None object is returned."
   ]
  },
  {
   "cell_type": "code",
   "execution_count": 29,
   "metadata": {},
   "outputs": [
    {
     "name": "stdout",
     "output_type": "stream",
     "text": [
      "4\n",
      "16\n"
     ]
    }
   ],
   "source": [
    "def square_value(num):\n",
    "    \"\"\"This function returns the square\n",
    "    value of the entered number\"\"\"\n",
    "    return num**2\n",
    " \n",
    "print(square_value(2))\n",
    "print(square_value(-4))"
   ]
  },
  {
   "cell_type": "markdown",
   "metadata": {},
   "source": [
    "One important thing to note is, in Python every variable name is a reference. When we pass a variable to a \n",
    "function, a new reference to the object is created. Parameter passing in Python is the same as reference passing\n",
    "in Java."
   ]
  },
  {
   "cell_type": "code",
   "execution_count": 30,
   "metadata": {},
   "outputs": [
    {
     "name": "stdout",
     "output_type": "stream",
     "text": [
      "[20, 11, 12, 13, 14, 15]\n"
     ]
    }
   ],
   "source": [
    "# Here x is a new reference to same list lst\n",
    "def myFun(x):\n",
    "    x[0] = 20\n",
    " \n",
    " \n",
    "# Driver Code (Note that lst is modified\n",
    "# after function call.\n",
    "lst = [10, 11, 12, 13, 14, 15]\n",
    "myFun(lst)\n",
    "print(lst)"
   ]
  },
  {
   "cell_type": "markdown",
   "metadata": {},
   "source": [
    "When we pass a reference and change the received reference to something else, the connection between the passed \n",
    "and received parameter is broken. For example, consider the below program as follows:"
   ]
  },
  {
   "cell_type": "code",
   "execution_count": 31,
   "metadata": {},
   "outputs": [
    {
     "name": "stdout",
     "output_type": "stream",
     "text": [
      "[10, 11, 12, 13, 14, 15]\n"
     ]
    }
   ],
   "source": [
    "def myFun(x):\n",
    " \n",
    "    # After below line link of x with previous\n",
    "    # object gets broken. A new object is assigned\n",
    "    # to x.\n",
    "    x = [20, 30, 40]\n",
    " \n",
    " \n",
    "# Driver Code (Note that lst is not modified\n",
    "# after function call.\n",
    "lst = [10, 11, 12, 13, 14, 15]\n",
    "myFun(lst)\n",
    "print(lst)"
   ]
  },
  {
   "cell_type": "markdown",
   "metadata": {},
   "source": [
    "Another example to demonstrate that the reference link is broken if we assign a new value (inside the function)."
   ]
  },
  {
   "cell_type": "code",
   "execution_count": 32,
   "metadata": {},
   "outputs": [
    {
     "name": "stdout",
     "output_type": "stream",
     "text": [
      "10\n"
     ]
    }
   ],
   "source": [
    "def myFun(x):\n",
    " \n",
    "    # After below line link of x with previous\n",
    "    # object gets broken. A new object is assigned\n",
    "    # to x.\n",
    "    x = 20\n",
    " \n",
    " \n",
    "# Driver Code (Note that lst is not modified\n",
    "# after function call.\n",
    "x = 10\n",
    "myFun(x)\n",
    "print(x)"
   ]
  },
  {
   "cell_type": "markdown",
   "metadata": {},
   "source": [
    "Q7. Name three or more ways that functions can communicate results to a caller."
   ]
  },
  {
   "cell_type": "markdown",
   "metadata": {},
   "source": [
    "1.Required argument\n",
    "2.Keyworded argument\n",
    "3.Default argument\n",
    "4.Variable-length arguments"
   ]
  }
 ],
 "metadata": {
  "kernelspec": {
   "display_name": "Python 3",
   "language": "python",
   "name": "python3"
  },
  "language_info": {
   "codemirror_mode": {
    "name": "ipython",
    "version": 3
   },
   "file_extension": ".py",
   "mimetype": "text/x-python",
   "name": "python",
   "nbconvert_exporter": "python",
   "pygments_lexer": "ipython3",
   "version": "3.8.5"
  }
 },
 "nbformat": 4,
 "nbformat_minor": 4
}
